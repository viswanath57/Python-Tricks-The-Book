{
 "cells": [
  {
   "cell_type": "markdown",
   "metadata": {},
   "source": [
    "- Each data structure provides a particular way of organizing data so it can be accessed effificently, depending on your use case.\n",
    "\n"
   ]
  },
  {
   "cell_type": "markdown",
   "metadata": {},
   "source": [
    "### Dictionaries, Maps, and Hashtables\n",
    "\n",
    "- Dictionaries are also often called maps, hashmaps, lookup tables, or associative arrays. They allow for the efficient lookup, insertion and deletion of any object associated with a given key.\n",
    "\n",
    "\n"
   ]
  },
  {
   "cell_type": "code",
   "execution_count": 7,
   "metadata": {},
   "outputs": [
    {
     "name": "stdout",
     "output_type": "stream",
     "text": [
      "4321\n",
      "{0: 0, 1: 1, 2: 4, 3: 9, 4: 16, 5: 25}\n"
     ]
    }
   ],
   "source": [
    "# Python provides some userful \"Syntactic Sugar\" for working with dictionaries in your programs. For example, \n",
    "# the curly-braces dictionary expression syntax and dictionary comprehensions allow you to conveniently define\n",
    "# new dictionary objects\n",
    "\n",
    "phonebook = {\n",
    "    'bob'   : 1234,\n",
    "    'alice' : 4321,\n",
    "    \n",
    "}\n",
    "\n",
    "squares = {x: x * x for x in range(6)}\n",
    "print(phonebook['alice'])\n",
    "print(squares)"
   ]
  },
  {
   "cell_type": "code",
   "execution_count": 17,
   "metadata": {},
   "outputs": [
    {
     "data": {
      "text/plain": [
       "(3, 3789705017596477050)"
      ]
     },
     "execution_count": 17,
     "metadata": {},
     "output_type": "execute_result"
    }
   ],
   "source": [
    "hash(3), hash((2,3,4))"
   ]
  },
  {
   "cell_type": "markdown",
   "metadata": {},
   "source": [
    "- There are some restrictions on which objects can be used as valid keys.\n",
    "- Python's dictionaries are indexed by keys that can be of any hashable type. A hashable object has a hash value which never changes during its lifetime, and it can be compared to other objects. In addition, hashable objects which compare as equal must have the same value.\n",
    "\n",
    "\n"
   ]
  },
  {
   "cell_type": "markdown",
   "metadata": {},
   "source": [
    "##### Hashable\n",
    "\n",
    "\n",
    "An object is hashable if it has a hash value which never changes during its lifetime (it needs a [\\__hash\\__()](https://docs.python.org/3/reference/datamodel.html#object.__hash__) method), and can be compared to other objects (it needs an [\\__eq\\__()](https://docs.python.org/3/reference/datamodel.html#object.__eq__) method). Hashable objects which compare equal must have the same hash value.\n",
    "\n",
    "_**Hashability makes an object usable as a dictionary key and a set member, because these data structures use the hash value internally**_.\n",
    "\n",
    "_**All of Python’s immutable built-in objects are hashable; mutable containers (such as lists or dictionaries) are not**_.\n",
    "\n",
    "_**Objects which are instances of user-defined classes are hashable by default. They all compare unequal (except with themselves), and their hash value is derived from their [id()](https://docs.python.org/3/library/functions.html#id)**_.b"
   ]
  },
  {
   "cell_type": "markdown",
   "metadata": {},
   "source": [
    "_**id(object)**_: Return the \"identity\" of an object. This is an integer which is guaranteed to be unique and constant for this object during its lifetime. Two objects with non-overlapping lifetimes may have the same id() value."
   ]
  },
  {
   "cell_type": "code",
   "execution_count": 1,
   "metadata": {},
   "outputs": [
    {
     "ename": "TypeError",
     "evalue": "unhashable type: 'list'",
     "output_type": "error",
     "traceback": [
      "\u001b[1;31m---------------------------------------------------------------------------\u001b[0m",
      "\u001b[1;31mTypeError\u001b[0m                                 Traceback (most recent call last)",
      "\u001b[1;32m<ipython-input-1-a85459af7b3f>\u001b[0m in \u001b[0;36m<module>\u001b[1;34m()\u001b[0m\n\u001b[1;32m----> 1\u001b[1;33m \u001b[0mtset\u001b[0m \u001b[1;33m=\u001b[0m \u001b[0mset\u001b[0m\u001b[1;33m(\u001b[0m\u001b[1;33m[\u001b[0m\u001b[1;33m[\u001b[0m\u001b[1;36m1\u001b[0m\u001b[1;33m]\u001b[0m\u001b[1;33m,\u001b[0m\u001b[1;36m2\u001b[0m\u001b[1;33m,\u001b[0m\u001b[1;36m3\u001b[0m\u001b[1;33m]\u001b[0m\u001b[1;33m)\u001b[0m\u001b[1;33m\u001b[0m\u001b[0m\n\u001b[0m\u001b[0;32m      2\u001b[0m \u001b[0mtset\u001b[0m\u001b[1;33m\u001b[0m\u001b[0m\n",
      "\u001b[1;31mTypeError\u001b[0m: unhashable type: 'list'"
     ]
    }
   ],
   "source": [
    "tset = set([[1],2,3])\n",
    "tset"
   ]
  },
  {
   "cell_type": "code",
   "execution_count": 7,
   "metadata": {},
   "outputs": [
    {
     "name": "stdout",
     "output_type": "stream",
     "text": [
      "135976851057 2 1995989184\n",
      "2\n"
     ]
    }
   ],
   "source": [
    "class AnInteger:\n",
    "    val = None\n",
    "    def __init__( self, x ):\n",
    "        self.val = x\n",
    "print(hash( AnInteger(2)), hash(2), id(2))\n",
    "tobj = AnInteger(2)\n",
    "print(tobj.val)"
   ]
  },
  {
   "cell_type": "code",
   "execution_count": 8,
   "metadata": {},
   "outputs": [
    {
     "data": {
      "text/plain": [
       "(-9223371900877922132, 2175629658824)"
      ]
     },
     "execution_count": 8,
     "metadata": {},
     "output_type": "execute_result"
    }
   ],
   "source": [
    "class tClass:\n",
    "    pass\n",
    "tobj = tClass()\n",
    "hash(tobj), id(tobj)"
   ]
  },
  {
   "cell_type": "code",
   "execution_count": 14,
   "metadata": {},
   "outputs": [
    {
     "data": {
      "text/plain": [
       "(2175628124744, 2175628124744)"
      ]
     },
     "execution_count": 14,
     "metadata": {},
     "output_type": "execute_result"
    }
   ],
   "source": [
    "id([1,2,3]), id([1,2,3])"
   ]
  },
  {
   "cell_type": "code",
   "execution_count": 20,
   "metadata": {},
   "outputs": [
    {
     "name": "stdout",
     "output_type": "stream",
     "text": [
      "2 3\n",
      "2175629546608 2175629548624\n",
      "135976846663 135976846789\n"
     ]
    }
   ],
   "source": [
    "tobj1 = AnInteger(2)\n",
    "tobj2 = AnInteger(3)\n",
    "print(tobj1.val, tobj2.val)\n",
    "print(id(tobj1), id(tobj2))\n",
    "print(hash(tobj1), hash(tobj2))"
   ]
  },
  {
   "cell_type": "code",
   "execution_count": 25,
   "metadata": {},
   "outputs": [
    {
     "name": "stdout",
     "output_type": "stream",
     "text": [
      "2 2\n",
      "2175629545992 2175629547280\n",
      "-9223371900877929184 135976846705\n"
     ]
    }
   ],
   "source": [
    "tobj1 = AnInteger(2)\n",
    "tobj2 = AnInteger(2)\n",
    "print(tobj1.val, tobj2.val)\n",
    "print(id(tobj1), id(tobj2))\n",
    "print(hash(tobj1), hash(tobj2))"
   ]
  }
 ],
 "metadata": {
  "kernelspec": {
   "display_name": "Python [default]",
   "language": "python",
   "name": "python3"
  },
  "language_info": {
   "codemirror_mode": {
    "name": "ipython",
    "version": 3
   },
   "file_extension": ".py",
   "mimetype": "text/x-python",
   "name": "python",
   "nbconvert_exporter": "python",
   "pygments_lexer": "ipython3",
   "version": "3.6.3"
  }
 },
 "nbformat": 4,
 "nbformat_minor": 2
}
